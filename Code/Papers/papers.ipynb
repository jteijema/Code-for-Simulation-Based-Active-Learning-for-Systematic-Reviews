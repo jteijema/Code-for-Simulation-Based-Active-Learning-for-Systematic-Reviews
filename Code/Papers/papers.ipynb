{
    "cells": [
        {
            "attachments": {},
            "cell_type": "markdown",
            "metadata": {},
            "source": [
                "# Set-up"
            ]
        },
        {
            "cell_type": "code",
            "execution_count": null,
            "metadata": {},
            "outputs": [],
            "source": [
                "# imports\n",
                "import pandas as pd\n",
                "import matplotlib.pyplot as plt\n",
                "import seaborn as sns"
            ]
        },
        {
            "cell_type": "code",
            "execution_count": null,
            "metadata": {},
            "outputs": [],
            "source": [
                "papers = pd.read_excel('..\\..\\Table_1_Paper_metrics.xlsx')\n",
                "datasets = pd.read_excel('..\\..\\Table_3_Dataset_Metrics.xlsx')"
            ]
        },
        {
            "cell_type": "code",
            "execution_count": null,
            "metadata": {},
            "outputs": [],
            "source": [
                "# show columns\n",
                "papers.columns"
            ]
        },
        {
            "cell_type": "code",
            "execution_count": null,
            "metadata": {},
            "outputs": [],
            "source": [
                "datasets.columns"
            ]
        },
        {
            "attachments": {},
            "cell_type": "markdown",
            "metadata": {},
            "source": [
                "# Visualizations"
            ]
        },
        {
            "cell_type": "code",
            "execution_count": null,
            "metadata": {},
            "outputs": [],
            "source": [
                "df = pd.read_excel('..\\..\\Table_1_Paper_metrics.xlsx')"
            ]
        },
        {
            "cell_type": "code",
            "execution_count": null,
            "metadata": {},
            "outputs": [],
            "source": [
                "# Distribution of publication years\n",
                "plt.figure()\n",
                "min_year = 2006\n",
                "max_year = int(df['Year'].max())\n",
                "sns.histplot(data=df, x='Year', bins=(13), kde=False, linewidth=2, color='steelblue')\n",
                "plt.xlim(min_year, max_year)\n",
                "plt.xlabel('Publication Year')\n",
                "plt.ylabel('Frequency')\n",
                "plt.title('Distribution of Publication Years')\n",
                "\n",
                "# save figure\n",
                "plt.savefig('Distribution of Publication Years.png', dpi=300)"
            ]
        },
        {
            "cell_type": "code",
            "execution_count": null,
            "metadata": {},
            "outputs": [],
            "source": [
                "# Number of datasets used for simulations\n",
                "plt.figure(figsize=(16, 4))\n",
                "ax = sns.boxplot(data=df, x='N_Datasets', linewidth=2, color='steelblue')\n",
                "plt.xlabel('Number of Datasets')\n",
                "plt.title('Distribution of Datasets Used for Simulations')\n",
                "plt.xticks(range(0, 85, 5))\n",
                "\n",
                "# Calculate the outliers using the interquartile range (IQR)\n",
                "Q1 = df['N_Datasets'].quantile(0.25)\n",
                "Q3 = df['N_Datasets'].quantile(0.75)\n",
                "IQR = Q3 - Q1\n",
                "lower_bound = Q1 - 1.5 * IQR\n",
                "upper_bound = Q3 + 1.5 * IQR\n",
                "\n",
                "# Identify and annotate the outliers\n",
                "outliers = df[(df['N_Datasets'] < lower_bound) | (df['N_Datasets'] > upper_bound)]\n",
                "for index, row in outliers.iterrows():\n",
                "    ax.annotate(int(row['N_Datasets']), (row['N_Datasets'], 0), textcoords=\"offset points\", xytext=(-10,10), ha='center', fontsize=10, color='red')\n",
                "\n",
                "\n",
                "\n",
                "# save figure\n",
                "plt.savefig('Distribution of Datasets Used for Simulations.png', dpi=300)\n",
                "\n",
                "# description\n",
                "# this plot shows the distribution of the number of datasets used for simulations"
            ]
        },
        {
            "cell_type": "code",
            "execution_count": null,
            "metadata": {},
            "outputs": [],
            "source": [
                "# Prelabeled datasets\n",
                "plt.figure()\n",
                "df['Labeled'].value_counts().plot(kind='pie', autopct='%1.1f%%', wedgeprops={'linewidth': 2, 'edgecolor': 'black'})\n",
                "plt.title('Prelabeled Datasets')\n",
                "plt.ylabel('')  # Hide the y-axis label\n",
                "\n",
                "# save figure\n",
                "plt.savefig('Prelabeled Datasets.png', dpi=300)\n",
                "\n",
                "# a pie chart showing the percentage of papers that used prelabeled datasets"
            ]
        },
        {
            "cell_type": "code",
            "execution_count": null,
            "metadata": {},
            "outputs": [],
            "source": [
                "# Split the metrics and count occurrences\n",
                "metrics_counts = {}\n",
                "\n",
                "for metrics in df['Metrics']:\n",
                "    # Split by commas, then strip leading/trailing whitespaces and convert to lowercase\n",
                "    split_metrics = [metric.strip().title() for metric in metrics.split(',')]\n",
                "\n",
                "    for metric in split_metrics:\n",
                "        if metric not in metrics_counts:\n",
                "            metrics_counts[metric] = 1\n",
                "        else:\n",
                "            metrics_counts[metric] += 1\n",
                "\n",
                "# Convert the metrics_counts dictionary to a Pandas Series for easier manipulation\n",
                "metrics_counts_series = pd.Series(metrics_counts)\n",
                "\n",
                "# combine recall and recall @ threshold and remove the old metrics\n",
                "metrics_counts_series['Recall'] = metrics_counts_series['Recall'] + metrics_counts_series['Recall @ Threshold'] + metrics_counts_series['Recall @ Rank K'] + metrics_counts_series['Recall At Effort (Recall@E)']\n",
                "metrics_counts_series = metrics_counts_series.drop(['Recall @ Threshold'])\n",
                "metrics_counts_series = metrics_counts_series.drop(['Recall @ Rank K'])\n",
                "metrics_counts_series = metrics_counts_series.drop(['Recall At Effort (Recall@E)'])\n",
                "\n",
                "# lastrel% and last_rel\n",
                "metrics_counts_series['Lastrel%'] = metrics_counts_series['Lastrel%'] + metrics_counts_series['Last_Rel'] + metrics_counts_series['Last Rel Found']\n",
                "metrics_counts_series = metrics_counts_series.drop(['Last_Rel'])\n",
                "metrics_counts_series = metrics_counts_series.drop(['Last Rel Found'])\n",
                "\n",
                "# precision and precision @ last relevant found\n",
                "metrics_counts_series['Precision'] = metrics_counts_series['Precision'] + metrics_counts_series['Precision @ Last Relevant Found']\n",
                "metrics_counts_series = metrics_counts_series.drop(['Precision @ Last Relevant Found'])\n",
                "\n",
                "# remove empty string\n",
                "metrics_counts_series = metrics_counts_series.drop([''])\n",
                "\n",
                "# wss and work saved\n",
                "metrics_counts_series['Wss'] = metrics_counts_series['Wss'] + metrics_counts_series['Work Saved']\n",
                "metrics_counts_series = metrics_counts_series.drop(['Work Saved'])\n",
                "\n",
                "# Sort the metrics by count\n",
                "sorted_metrics_counts = metrics_counts_series.sort_values(ascending=False)"
            ]
        },
        {
            "cell_type": "code",
            "execution_count": null,
            "metadata": {},
            "outputs": [],
            "source": [
                "# barplot of metrics used in studies with at least 3 occurrences\n",
                "plt.figure(figsize=(10, 6))\n",
                "sns.barplot(x=sorted_metrics_counts[sorted_metrics_counts > 2].values, y=sorted_metrics_counts[sorted_metrics_counts > 2].index, orient='h', color='steelblue', edgecolor='black', linewidth=2)\n",
                "plt.xlabel('Frequency')\n",
                "plt.ylabel('Metrics')\n",
                "plt.title('Frequency of Metrics Used in Studies')\n",
                "\n",
                "\n",
                "# save figure\n",
                "plt.savefig('Frequency of Metrics Used in Studies.png', dpi=300, bbox_inches='tight')\n",
                "# a barplot showing the frequency of metrics used in studies"
            ]
        },
        {
            "cell_type": "code",
            "execution_count": null,
            "metadata": {},
            "outputs": [],
            "source": [
                "# print all metrics \n",
                "for i in sorted_metrics_counts.index:\n",
                "    print(i)"
            ]
        },
        {
            "cell_type": "code",
            "execution_count": null,
            "metadata": {},
            "outputs": [],
            "source": [
                "# Split the data and count occurrences\n",
                "data_counts = {}\n",
                "\n",
                "for data in df['Data Used'].dropna():\n",
                "    # Split by commas, then strip leading/trailing whitespaces and convert to lowercase\n",
                "    split_data = [data.strip().lower() for data in data.split(',')]\n",
                "    \n",
                "    for data in split_data:\n",
                "        if data not in data_counts:\n",
                "            data_counts[data] = 1\n",
                "        else:\n",
                "            data_counts[data] += 1\n",
                "\n",
                "# Convert the data_counts dictionary to a Pandas Series for easier manipulation\n",
                "data_counts_series = pd.Series(data_counts)\n",
                "\n",
                "# Sort the metrics by count\n",
                "sorted_data_counts = data_counts_series.sort_values(ascending=False)"
            ]
        },
        {
            "cell_type": "code",
            "execution_count": null,
            "metadata": {},
            "outputs": [],
            "source": [
                "# Barplot of data used in studies\n",
                "plt.figure()\n",
                "sorted_data_counts.plot(kind='barh', x='Data Type', y='Frequency', legend=None, width=0.75, edgecolor='black', linewidth=2, color='steelblue')\n",
                "plt.xlabel('Frequency')\n",
                "plt.ylabel('Data Type')\n",
                "plt.gca().invert_yaxis()\n",
                "plt.title('Types of Data Used to Train the Model')\n",
                "\n",
                "# save figure\n",
                "plt.savefig('Types of Data Used to Train the Model.png', dpi=300, bbox_inches='tight')"
            ]
        },
        {
            "cell_type": "code",
            "execution_count": null,
            "metadata": {},
            "outputs": [],
            "source": [
                "# clean up OS_availability and OS_Reported\n",
                "# change NaN to N/A in df['OS_availability'] \n",
                "df['OS_availability'] = df['OS_availability'].fillna('N/A')\n",
                "\n",
                "# same for OS_Reported\n",
                "df['OS_Reported'] = df['OS_Reported'].fillna('N/A')\n",
                "\n",
                "# for OS_reported, combine all variants of dataset\n",
                "df['OS_Reported'] = df['OS_Reported'].replace('Dataset ', 'Dataset')\n",
                "\n",
                "# sane for OS_availability\n",
                "df['OS_availability'] = df['OS_availability'].replace('Dataset ', 'Dataset')"
            ]
        },
        {
            "cell_type": "code",
            "execution_count": null,
            "metadata": {},
            "outputs": [],
            "source": [
                "# Pie chart for OS_Reported\n",
                "os_reported_counts = df['OS_Reported'].value_counts()\n",
                "colors = {'Dataset': '#ffeda0', 'Dataset and code': '#a1d99b', 'N/A': '#fcbba1'}\n",
                "\n",
                "plt.figure()\n",
                "os_reported_counts.plot(kind='pie', autopct='%1.1f%%', colors=[colors[x] for x in os_reported_counts.index], wedgeprops={'linewidth': 2, 'edgecolor': 'black'})\n",
                "plt.title('Data and Code Reported availability')\n",
                "plt.ylabel('')  # Hide the y-axis label\n",
                "\n",
                "# save figure\n",
                "plt.savefig('OS_Reported.png', dpi=300)"
            ]
        },
        {
            "cell_type": "code",
            "execution_count": null,
            "metadata": {},
            "outputs": [],
            "source": [
                "df['OS_availability'].value_counts()"
            ]
        },
        {
            "cell_type": "code",
            "execution_count": null,
            "metadata": {},
            "outputs": [],
            "source": [
                "# Pie chart for OS_Reported\n",
                "os_availability_counts = df['OS_availability'].value_counts()\n",
                "colors = {'Dataset': '#ffeda0', 'Code': '#AEC6CF','Dataset and code': '#a1d99b', 'N/A': '#fcbba1'}\n",
                "\n",
                "plt.figure()\n",
                "os_reported_counts.plot(kind='pie', autopct='%1.1f%%', colors=[colors[x] for x in os_reported_counts.index], wedgeprops={'linewidth': 2, 'edgecolor': 'black'})\n",
                "plt.title('Data and Code availability')\n",
                "plt.ylabel('')  # Hide the y-axis label\n",
                "\n",
                "# save figure\n",
                "plt.savefig('OS_actual.png', dpi=300)"
            ]
        },
        {
            "cell_type": "code",
            "execution_count": null,
            "metadata": {},
            "outputs": [],
            "source": [
                "# barplot for OS_availability\n",
                "# Create a new DataFrame to store the actual availability information\n",
                "availability_data = {\n",
                "    'Dataset and code': {'True': 0, 'Dataset': 0, 'Code': 0, 'None': 0},\n",
                "    'Dataset': {'Dataset': 0, 'None': 0},\n",
                "    'N/A': {'None': 0}\n",
                "}\n",
                "\n",
                "for idx, row in df.iterrows():\n",
                "    reported = row['OS_Reported']\n",
                "    availability = row['OS_availability']\n",
                "    if reported == 'Dataset and code':\n",
                "        if availability == 'Dataset and code':\n",
                "            availability_data[reported]['True'] += 1\n",
                "        elif availability == 'Dataset':\n",
                "            availability_data[reported]['Dataset'] += 1\n",
                "        elif availability == 'Code':\n",
                "            availability_data[reported]['Code'] += 1\n",
                "        else:\n",
                "            availability_data[reported]['None'] += 1\n",
                "    elif reported == 'Dataset':\n",
                "        if availability == 'Dataset':\n",
                "            availability_data[reported]['Dataset'] += 1\n",
                "        else:\n",
                "            availability_data[reported]['None'] += 1\n",
                "    else:\n",
                "        if availability == 'N/A':\n",
                "            availability_data[reported]['None'] += 1\n",
                "\n",
                "availability_df = pd.DataFrame(availability_data).transpose()\n",
                "\n",
                "# Plot the stacked bar chart\n",
                "colors = ['#a1d99b', '#ffeda0', '#AEC6CF', '#fcbba1']\n",
                "ax = availability_df.plot(kind='bar', stacked=True, color=colors, figsize=(8, 6),  width=0.75, edgecolor='black', linewidth=2)\n",
                "plt.title('Actual Availability of Reported Resources')\n",
                "plt.ylabel('Reported Frequency')\n",
                "plt.xticks(rotation=0)\n",
                "\n",
                "# Modify y-axis to show only integer values\n",
                "ax.yaxis.set_major_locator(plt.MaxNLocator(integer=True))\n",
                "\n",
                "# Add legend\n",
                "handles, labels = ax.get_legend_handles_labels()\n",
                "ax.legend(handles[::-1], labels[::-1], title='Actual Availability', loc='upper right')\n",
                "\n",
                "# change label N/A to Not Available\n",
                "ax.set_xticklabels(['Dataset and code reported', 'Dataset reported', 'None reported'])\n",
                "\n",
                "# Change legend None to Not Available\n",
                "ax.legend_.get_texts()[0].set_text('None Available')\n",
                "ax.legend_.get_texts()[1].set_text('Only code')\n",
                "ax.legend_.get_texts()[2].set_text('Only dataset')\n",
                "ax.legend_.get_texts()[3].set_text('Available')\n",
                "\n",
                "# save figure\n",
                "plt.savefig('Actual Availability of Reported Resources.png', dpi=300)\n",
                "\n",
                "# a barplot showing the actual availability of reported resources\n"
            ]
        },
        {
            "cell_type": "code",
            "execution_count": null,
            "metadata": {},
            "outputs": [],
            "source": [
                "# calc what percentage of studies have data available\n",
                "print('Percentage of studies with data available: {:.2f}%'.format(100 * (availability_df['True'].sum() + availability_df['Dataset'].sum()) / len(df)))"
            ]
        }
    ],
    "metadata": {
        "kernelspec": {
            "display_name": "Python 3.9.6 64-bit",
            "language": "python",
            "name": "python3"
        },
        "language_info": {
            "codemirror_mode": {
                "name": "ipython",
                "version": 3
            },
            "file_extension": ".py",
            "mimetype": "text/x-python",
            "name": "python",
            "nbconvert_exporter": "python",
            "pygments_lexer": "ipython3",
            "version": "3.8.8"
        },
        "orig_nbformat": 4,
        "vscode": {
            "interpreter": {
                "hash": "11938c6bc6919ae2720b4d5011047913343b08a43b18698fd82dedb0d4417594"
            }
        }
    },
    "nbformat": 4,
    "nbformat_minor": 2
}
