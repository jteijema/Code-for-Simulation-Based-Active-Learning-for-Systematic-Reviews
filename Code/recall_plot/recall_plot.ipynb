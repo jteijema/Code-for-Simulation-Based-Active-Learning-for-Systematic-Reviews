{
 "cells": [
  {
   "cell_type": "code",
   "execution_count": null,
   "metadata": {},
   "outputs": [],
   "source": [
    "import matplotlib.pyplot as plt\n",
    "\n",
    "from asreview import open_state\n",
    "from asreviewcontrib.insights.plot import plot_recall"
   ]
  },
  {
   "cell_type": "code",
   "execution_count": null,
   "metadata": {},
   "outputs": [],
   "source": [
    "with open_state(r\"..\\..\\\\Combined Simulation - Logisctic Regression.asreview\") as s:\n",
    "\n",
    "    fig, ax = plt.subplots()\n",
    "\n",
    "    plot_recall(ax, s, x_absolute=True, y_absolute=True)\n",
    "\n",
    "    # add a vertical line as 128\n",
    "    ax.axvline(x=128, color=\"#ffc000\", linestyle=\"--\")\n",
    "\n",
    "    # add horizontal line at 59, color white, 0 opacity, 2 width\n",
    "    plt.plot([129.5, 277.5], [27, 27], color=\"#ffffff\", linestyle=\"-\", alpha=1, linewidth=3)\n",
    "\n",
    "    ax.lines[0].set_label(\"Recall\")\n",
    "    ax.lines[1].set_label(\"Random\")\n",
    "    ax.lines[2].set_label(\"Screening Halted\")\n",
    "    ax.legend()\n",
    "    ax.set_ylabel('Relevant Records Found')\n",
    "    ax.set_xlabel('Records Labeled')\n",
    "\n",
    "    ax.set_title(\"Recall - Second Search Update\")\n",
    "\n",
    "    fig.savefig(\"recall_plot_update_2.png\")\n",
    "    fig.savefig(\"recall_plot_update_2.svg\")"
   ]
  },
  {
   "cell_type": "code",
   "execution_count": null,
   "metadata": {},
   "outputs": [],
   "source": [
    "with open_state(r\"..\\..\\\\search-update-2023.asreview\") as s:\n",
    "\n",
    "    fig, ax = plt.subplots()\n",
    "\n",
    "    plot_recall(ax, s, x_absolute=True, y_absolute=True)\n",
    "\n",
    "    # add a vertical line as 128\n",
    "    ax.axvline(x=128 -37, color=\"#ffc000\", linestyle=\"--\")\n",
    "\n",
    "    # add horizontal line at 59, color white, 0 opacity, 2 width\n",
    "    plt.plot([129.5 -37, 277.5 -70.5], [13, 13], color=\"#ffffff\", linestyle=\"-\", alpha=1, linewidth=3)\n",
    "\n",
    "    ax.lines[0].set_label(\"Recall\")\n",
    "    ax.lines[1].set_label(\"Random\")\n",
    "    ax.lines[2].set_label(\"Screening Halted\")\n",
    "    ax.legend()\n",
    "    ax.set_ylabel('Relevant Records Found')\n",
    "    ax.set_xlabel('Records Labeled')\n",
    "\n",
    "    ax.set_title(\"Recall - First Search Update\")\n",
    "    fig.savefig(\"recall_plot_update.png\")\n",
    "    fig.savefig(\"recall_plot_update.svg\")"
   ]
  },
  {
   "cell_type": "code",
   "execution_count": null,
   "metadata": {},
   "outputs": [],
   "source": [
    "with open_state(r\"..\\..\\\\current-efforts-of-testing-active-learning.asreview\") as s:\n",
    "\n",
    "    fig, ax = plt.subplots()\n",
    "\n",
    "    plot_recall(ax, s, x_absolute=True, y_absolute=True)\n",
    "\n",
    "    # add a vertical line as 128\n",
    "    ax.axvline(x=269, color=\"#ffc000\", linestyle=\"--\")\n",
    "\n",
    "    # add horizontal line at 59, color white, 0 opacity, 2 width\n",
    "    plt.plot([277, 1260], [59, 59], color=\"#ffffff\", linestyle=\"-\", alpha=1, linewidth=3)\n",
    "\n",
    "    ax.lines[0].set_label(\"Recall\")\n",
    "    ax.lines[1].set_label(\"Random\")\n",
    "    ax.lines[2].set_label(\"Screening Halted\")\n",
    "    ax.legend()\n",
    "    ax.set_ylabel('Relevant Records Found')\n",
    "    ax.set_xlabel('Records Labeled')\n",
    "\n",
    "    ax.set_title(\"Recall - Original Search\")\n",
    "    fig.savefig(\"recall_plot.png\")\n",
    "    fig.savefig(\"recall_plot.svg\")"
   ]
  }
 ],
 "metadata": {
  "kernelspec": {
   "display_name": "Python 3.9.6 64-bit",
   "language": "python",
   "name": "python3"
  },
  "language_info": {
   "codemirror_mode": {
    "name": "ipython",
    "version": 3
   },
   "file_extension": ".py",
   "mimetype": "text/x-python",
   "name": "python",
   "nbconvert_exporter": "python",
   "pygments_lexer": "ipython3",
   "version": "3.9.5"
  },
  "orig_nbformat": 4,
  "vscode": {
   "interpreter": {
    "hash": "11938c6bc6919ae2720b4d5011047913343b08a43b18698fd82dedb0d4417594"
   }
  }
 },
 "nbformat": 4,
 "nbformat_minor": 2
}
