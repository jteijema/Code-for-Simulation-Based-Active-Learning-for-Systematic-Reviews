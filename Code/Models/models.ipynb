{
 "cells": [
  {
   "attachments": {},
   "cell_type": "markdown",
   "metadata": {},
   "source": [
    "# Set-up"
   ]
  },
  {
   "cell_type": "code",
   "execution_count": null,
   "metadata": {},
   "outputs": [],
   "source": [
    "# imports\n",
    "import pandas as pd\n",
    "import numpy as np\n",
    "import matplotlib.pyplot as plt\n",
    "import seaborn as sns"
   ]
  },
  {
   "cell_type": "code",
   "execution_count": null,
   "metadata": {},
   "outputs": [],
   "source": [
    "papers = pd.read_excel('..\\..\\Table_1_Paper_metrics.xlsx')"
   ]
  },
  {
   "attachments": {},
   "cell_type": "markdown",
   "metadata": {},
   "source": [
    "# Visualizations"
   ]
  },
  {
   "cell_type": "code",
   "execution_count": null,
   "metadata": {},
   "outputs": [],
   "source": [
    "# machine learning model frequency\n",
    "# Split the metrics and count occurrences\n",
    "model_counts = {}\n",
    "\n",
    "for models in papers['Model'].dropna():\n",
    "    # Split by commas, then strip leading/trailing whitespaces and convert to lowercase\n",
    "    split_models = [model.strip() for model in models.split(',')]\n",
    "    \n",
    "    for model in split_models:\n",
    "        if model not in model_counts:\n",
    "            model_counts[model] = 1\n",
    "        else:\n",
    "            model_counts[model] += 1\n",
    "\n",
    "# Convert the metrics_counts dictionary to a Pandas Series for easier manipulation\n",
    "models_counts_series = pd.Series(model_counts)\n",
    "\n",
    "# Sort the series by the number of occurrences\n",
    "models_counts_series.sort_values(ascending=False, inplace=True)\n",
    "\n",
    "# print\n",
    "models_counts_series\n",
    "\n",
    "# remove Not Reported\n",
    "models_counts_series = models_counts_series.drop('Not Reported')"
   ]
  },
  {
   "cell_type": "code",
   "execution_count": null,
   "metadata": {},
   "outputs": [],
   "source": [
    "# barplot of machine learning algorithm frequency\n",
    "plt.figure(figsize=(10, 6))\n",
    "models_counts_series.plot(kind='barh', edgecolor='black', linewidth=2, color='steelblue', width=0.75)\n",
    "plt.xlabel('Frequency')\n",
    "plt.ylabel('Machine Learning Model')\n",
    "plt.gca().invert_yaxis()\n",
    "plt.title('Machine Learning Models Used')\n",
    "\n",
    "# Save figure\n",
    "plt.savefig('Machine Learning Models Used.png', dpi=300, bbox_inches='tight')"
   ]
  },
  {
   "cell_type": "code",
   "execution_count": null,
   "metadata": {},
   "outputs": [],
   "source": [
    "# Hyperparameter optimization\n",
    "plt.figure(figsize=(3,3))\n",
    "papers['Hyperparameter_Trained'].value_counts().plot(kind='pie', autopct='%1.1f%%', wedgeprops={'linewidth': 2, 'edgecolor': 'black'})\n",
    "plt.title('Hyperparameter Optimization')\n",
    "plt.ylabel('')  # Hide the y-axis label\n",
    "\n",
    "# Save figure\n",
    "plt.savefig('Hyperparameter Optimization.png', dpi=300, bbox_inches='tight')"
   ]
  }
 ],
 "metadata": {
  "kernelspec": {
   "display_name": "Python 3.9.6 64-bit",
   "language": "python",
   "name": "python3"
  },
  "language_info": {
   "codemirror_mode": {
    "name": "ipython",
    "version": 3
   },
   "file_extension": ".py",
   "mimetype": "text/x-python",
   "name": "python",
   "nbconvert_exporter": "python",
   "pygments_lexer": "ipython3",
   "version": "3.8.8"
  },
  "orig_nbformat": 4,
  "vscode": {
   "interpreter": {
    "hash": "11938c6bc6919ae2720b4d5011047913343b08a43b18698fd82dedb0d4417594"
   }
  }
 },
 "nbformat": 4,
 "nbformat_minor": 2
}
