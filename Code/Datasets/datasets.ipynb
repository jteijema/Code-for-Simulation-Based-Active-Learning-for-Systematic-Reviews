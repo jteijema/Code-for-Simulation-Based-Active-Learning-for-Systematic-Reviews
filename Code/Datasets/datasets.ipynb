{
 "cells": [
  {
   "attachments": {},
   "cell_type": "markdown",
   "metadata": {},
   "source": [
    "# Set-up"
   ]
  },
  {
   "cell_type": "code",
   "execution_count": null,
   "metadata": {},
   "outputs": [],
   "source": [
    "# imports\n",
    "import pandas as pd\n",
    "import matplotlib.pyplot as plt\n",
    "import seaborn as sns\n",
    "import numpy as np\n",
    "from matplotlib.ticker import MaxNLocator\n",
    "from matplotlib.ticker import FuncFormatter"
   ]
  },
  {
   "cell_type": "code",
   "execution_count": null,
   "metadata": {},
   "outputs": [],
   "source": [
    "df = pd.read_excel('..\\..\\Table_3_Dataset_Metrics.xlsx')\n",
    "\n",
    "# remove all lines where valid is No\n",
    "df = df[df['Valid'] == 'Yes']"
   ]
  },
  {
   "cell_type": "code",
   "execution_count": null,
   "metadata": {},
   "outputs": [],
   "source": [
    "# columns\n",
    "df.columns"
   ]
  },
  {
   "attachments": {},
   "cell_type": "markdown",
   "metadata": {},
   "source": [
    "# Visualizations"
   ]
  },
  {
   "cell_type": "code",
   "execution_count": null,
   "metadata": {},
   "outputs": [],
   "source": [
    "#bar plot of number of datasets per year\n",
    "# Filter out rows with NaNs or text in the 'Year' column\n",
    "filtered_df = df[df['Year'].apply(lambda x: isinstance(x, (int, float)) and not pd.isna(x))]\n",
    "\n",
    "# Distribution of publication years\n",
    "plt.figure()\n",
    "min_year = int(filtered_df['Year'].min())\n",
    "max_year = int(filtered_df['Year'].max())\n",
    "ax = sns.histplot(data=filtered_df, x='Year', bins=range(min_year, max_year+1), kde=False, linewidth=2, color='steelblue')\n",
    "ax.xaxis.set_major_locator(MaxNLocator(integer=True))\n",
    "plt.xlabel('Publication Year')\n",
    "plt.ylabel('Frequency')\n",
    "plt.title('Distribution of Publication Years')\n",
    "\n",
    "# Save figure\n",
    "plt.savefig('Distribution of Publication Years.png', dpi=300, bbox_inches='tight')"
   ]
  },
  {
   "cell_type": "code",
   "execution_count": null,
   "metadata": {},
   "outputs": [],
   "source": [
    "# make plot relative\n",
    "# get total number of datasets\n",
    "total = df['Field'].value_counts().sum()\n",
    "# get relative frequencies\n",
    "relative = df['Field'].value_counts() #/ total\n",
    "# change N/S to Not Specified\n",
    "relative = relative.rename({'N/S': 'Not Specified'})\n",
    "# plot\n",
    "plt.figure(figsize=(12, 4))\n",
    "relative.plot(kind='barh', edgecolor='black', linewidth=2, color='steelblue')\n",
    "plt.xlabel('Number of records')\n",
    "plt.ylabel('Field')\n",
    "plt.gca().invert_yaxis()\n",
    "plt.title('Distribution of Fields')\n",
    "\n",
    "# Save figure\n",
    "plt.savefig('Distribution of Fields.png', dpi=300, bbox_inches='tight')"
   ]
  },
  {
   "cell_type": "code",
   "execution_count": null,
   "metadata": {},
   "outputs": [],
   "source": [
    "# Convert 'N_Records' and 'N_Inclusions' columns to numeric and replace non-numeric values with NaN\n",
    "df['N_Records'] = pd.to_numeric(df['N_Records'], errors='coerce')\n",
    "df['N_Inclusions'] = pd.to_numeric(df['N_Inclusions'], errors='coerce')"
   ]
  },
  {
   "cell_type": "code",
   "execution_count": null,
   "metadata": {},
   "outputs": [],
   "source": [
    "# barplot of number of log-transformed records\n",
    "# Remove rows with NaN or zero values in 'N_Records' to avoid issues with log transformation\n",
    "df = df.dropna(subset=['N_Records'])\n",
    "df = df[df['N_Records'] > 0]\n",
    "\n",
    "# Apply log transformation to 'N_Records'\n",
    "df['log_N_Records'] = np.log10(df['N_Records'])\n",
    "\n",
    "# Define a function to format tick labels as 10^x\n",
    "def log10_formatter(x, pos):\n",
    "    return f\"10^{int(x)}\"\n",
    "\n",
    "# Histogram of log-transformed number of records with custom x-axis tick labels\n",
    "plt.figure()\n",
    "sns.histplot(data=df, x='log_N_Records', kde=False, bins=25)\n",
    "plt.xlabel('Number of Records in dataset')\n",
    "plt.ylabel('Frequency')\n",
    "plt.title('Distribution of Log(Number of Records)')\n",
    "\n",
    "# Apply the custom tick label formatter to the x-axis\n",
    "# ax = plt.gca()\n",
    "# ax.xaxis.set_major_formatter(FuncFormatter(log10_formatter))\n",
    "\n",
    "# change x ticks to 10, 100, 1000, 10000, 100000, 1000000\n",
    "plt.xticks([1, 2, 3, 4, 5, 6], ['10', '100', '1000', '10000', '100000', '1000000'])\n",
    "\n",
    "# Save figure\n",
    "plt.savefig('Distribution of Log(Number of Records).png', dpi=300, bbox_inches='tight')"
   ]
  },
  {
   "cell_type": "code",
   "execution_count": null,
   "metadata": {},
   "outputs": [],
   "source": [
    "# Density plot of log-transformed number of records with custom x-axis tick labels\n",
    "plt.figure()\n",
    "sns.kdeplot(data=df, x='log_N_Records', fill=True)\n",
    "plt.xlabel('Number of Records')\n",
    "plt.ylabel('Density')\n",
    "plt.title('Number of Records per dataset')\n",
    "\n",
    "# Apply the custom tick label formatter to the x-axis\n",
    "ax = plt.gca()\n",
    "ax.xaxis.set_major_formatter(FuncFormatter(log10_formatter))\n",
    "\n",
    "# change x ticks to 10, 100, 1000, 10000, 100000, 1000000\n",
    "plt.xticks([1, 2, 3, 4, 5, 6], ['10', '100', '1000', '10000', '100000', '1000000'])\n",
    "\n",
    "# Save figure\n",
    "plt.savefig('Density Plot of Log(Number of Records).png', dpi=300, bbox_inches='tight')\n"
   ]
  },
  {
   "cell_type": "code",
   "execution_count": null,
   "metadata": {},
   "outputs": [],
   "source": [
    "# Number of records and number of inclusions with outliers\n",
    "plt.figure()\n",
    "sns.scatterplot(data=df, x='N_Records', y='N_Inclusions', edgecolor='black', linewidth=0.1, color='steelblue')\n",
    "plt.xlabel('Number of Records')\n",
    "plt.ylabel('Number of Inclusions')\n",
    "plt.xlim(0, 80000)\n",
    "plt.title('Number of Records vs. Number of Inclusions (without outliers)')\n",
    "\n",
    "\n",
    "# Save figure\n",
    "plt.savefig('Number of Records vs. Number of Inclusions.png', dpi=300, bbox_inches='tight')"
   ]
  },
  {
   "cell_type": "code",
   "execution_count": null,
   "metadata": {},
   "outputs": [],
   "source": [
    "# Number of records and number of inclusions without outliers\n",
    "plt.figure()\n",
    "sns.scatterplot(data=df, x='N_Records', y='N_Inclusions', edgecolor='black', linewidth=0.1, color='steelblue')\n",
    "plt.xlabel('Number of Records')\n",
    "plt.ylabel('Number of Inclusions')\n",
    "plt.xlim(0, 20000)\n",
    "plt.ylim(0, 1000)\n",
    "plt.title('Number of Records vs. Number of Inclusions (without outliers)')\n",
    "\n",
    "# Save figure\n",
    "plt.savefig('Number of Records vs. Number of Inclusions (without outliers).png', dpi=300, bbox_inches='tight')"
   ]
  },
  {
   "cell_type": "code",
   "execution_count": null,
   "metadata": {},
   "outputs": [],
   "source": [
    "# Number of records and number of inclusions without outliers and with regression line\n",
    "plt.figure()\n",
    "\n",
    "# plot scatter plot\n",
    "sns.scatterplot(data=df, x='N_Records', y='N_Inclusions', edgecolor='black', linewidth=0.1, color='steelblue')\n",
    "# plot correlation coefficient line of best fit\n",
    "sns.regplot(data=df, x='N_Records', y='N_Inclusions', scatter=False, color='red', line_kws={'linestyle':'--'})\n",
    "# pplot correlation power estimate\n",
    "plt.text(12000, 450, f'p = {df[\"N_Records\"].corr(df[\"N_Inclusions\"], method=\"spearman\"):.2f}', fontsize=12, color='gray')\n",
    "\n",
    "plt.xlabel('Number of Records')\n",
    "plt.ylabel('Number of Inclusions')\n",
    "plt.xlim(0, 20000)\n",
    "plt.ylim(0, 1000)\n",
    "plt.title('Number of Records vs. Number of Inclusions (without outliers)')\n",
    "\n",
    "\n",
    "# Save figure\n",
    "plt.savefig('Number of Records vs. Number of Inclusions with regression (without outliers).png', dpi=300, bbox_inches='tight')"
   ]
  }
 ],
 "metadata": {
  "kernelspec": {
   "display_name": "Python 3.9.6 64-bit",
   "language": "python",
   "name": "python3"
  },
  "language_info": {
   "codemirror_mode": {
    "name": "ipython",
    "version": 3
   },
   "file_extension": ".py",
   "mimetype": "text/x-python",
   "name": "python",
   "nbconvert_exporter": "python",
   "pygments_lexer": "ipython3",
   "version": "3.8.8"
  },
  "orig_nbformat": 4,
  "vscode": {
   "interpreter": {
    "hash": "11938c6bc6919ae2720b4d5011047913343b08a43b18698fd82dedb0d4417594"
   }
  }
 },
 "nbformat": 4,
 "nbformat_minor": 2
}
